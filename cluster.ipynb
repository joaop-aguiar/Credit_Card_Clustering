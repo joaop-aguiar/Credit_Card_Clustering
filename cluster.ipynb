{
  "nbformat": 4,
  "nbformat_minor": 0,
  "metadata": {
    "colab": {
      "name": "Assignment 19.ipynb",
      "provenance": []
    },
    "kernelspec": {
      "name": "python3",
      "display_name": "Python 3"
    },
    "language_info": {
      "name": "python"
    }
  },
  "cells": [
    {
      "cell_type": "code",
      "metadata": {
        "id": "nuAql3EingmC"
      },
      "source": [
        "from pathlib import Path\n",
        "import progressbar as pb\n",
        "import warnings # supress warnings\n",
        "warnings.filterwarnings('always')\n",
        "warnings.filterwarnings('ignore')\n",
        "import pandas as pd\n",
        "from sklearn.preprocessing import Normalizer, StandardScaler, normalize\n",
        "from sklearn import metrics\n",
        "from sklearn.metrics import silhouette_score, v_measure_score\n",
        "from sklearn.cluster import KMeans\n",
        "import matplotlib.pyplot as plt\n",
        "from sklearn.mixture import GaussianMixture\n",
        "from sklearn.decomposition import PCA"
      ],
      "execution_count": 1,
      "outputs": []
    },
    {
      "cell_type": "code",
      "metadata": {
        "colab": {
          "base_uri": "https://localhost:8080/"
        },
        "id": "V5xnxXXHmYPD",
        "outputId": "abd32758-8641-40ad-afec-5c84625be3f2"
      },
      "source": [
        "%env KAGGLE_USERNAME=joaopaguiar\n",
        "%env KAGGLE_KEY=7ef11663a308234bd531dd972d69ed41\n",
        "\n",
        "!kaggle datasets download -d arjunbhasin2013/ccdata --unzip -p /content/ccdata\n",
        "!ls /content/ccdata"
      ],
      "execution_count": 2,
      "outputs": [
        {
          "output_type": "stream",
          "name": "stdout",
          "text": [
            "env: KAGGLE_USERNAME=joaopaguiar\n",
            "env: KAGGLE_KEY=7ef11663a308234bd531dd972d69ed41\n",
            "Downloading ccdata.zip to /content/ccdata\n",
            "  0% 0.00/340k [00:00<?, ?B/s]\n",
            "100% 340k/340k [00:00<00:00, 11.2MB/s]\n",
            "'CC GENERAL.csv'\n"
          ]
        }
      ]
    },
    {
      "cell_type": "code",
      "metadata": {
        "id": "BSG53GTJmynb"
      },
      "source": [
        "DATA_PATH = Path(\"/content/ccdata\")\n",
        "\n",
        "df = pd.read_csv(DATA_PATH / \"CC GENERAL.csv\")"
      ],
      "execution_count": 3,
      "outputs": []
    },
    {
      "cell_type": "code",
      "metadata": {
        "id": "vKq0K97YniW5"
      },
      "source": [
        "df.drop(columns='CUST_ID',inplace=True)"
      ],
      "execution_count": 4,
      "outputs": []
    },
    {
      "cell_type": "code",
      "metadata": {
        "colab": {
          "base_uri": "https://localhost:8080/"
        },
        "id": "jYDe5mPaozi_",
        "outputId": "07c95c61-3fd9-420e-bbe9-520daa5e6292"
      },
      "source": [
        "df.isnull().sum()"
      ],
      "execution_count": 5,
      "outputs": [
        {
          "output_type": "execute_result",
          "data": {
            "text/plain": [
              "BALANCE                               0\n",
              "BALANCE_FREQUENCY                     0\n",
              "PURCHASES                             0\n",
              "ONEOFF_PURCHASES                      0\n",
              "INSTALLMENTS_PURCHASES                0\n",
              "CASH_ADVANCE                          0\n",
              "PURCHASES_FREQUENCY                   0\n",
              "ONEOFF_PURCHASES_FREQUENCY            0\n",
              "PURCHASES_INSTALLMENTS_FREQUENCY      0\n",
              "CASH_ADVANCE_FREQUENCY                0\n",
              "CASH_ADVANCE_TRX                      0\n",
              "PURCHASES_TRX                         0\n",
              "CREDIT_LIMIT                          1\n",
              "PAYMENTS                              0\n",
              "MINIMUM_PAYMENTS                    313\n",
              "PRC_FULL_PAYMENT                      0\n",
              "TENURE                                0\n",
              "dtype: int64"
            ]
          },
          "metadata": {},
          "execution_count": 5
        }
      ]
    },
    {
      "cell_type": "code",
      "metadata": {
        "id": "acTdpYZ9n-O5"
      },
      "source": [
        "df['MINIMUM_PAYMENTS'].fillna(df['MINIMUM_PAYMENTS'].min(), inplace=True)\n",
        "df['CREDIT_LIMIT'].fillna(df['CREDIT_LIMIT'].min(), inplace=True)"
      ],
      "execution_count": 6,
      "outputs": []
    },
    {
      "cell_type": "code",
      "metadata": {
        "id": "usEcImLmpuzi"
      },
      "source": [
        "df1=df[df['BALANCE'] < df['BALANCE'].quantile(.95)]\n",
        "df1=df1[df1['PURCHASES'] < df['PURCHASES'].quantile(.95)]\n",
        "df1=df1[df1['ONEOFF_PURCHASES'] < df['ONEOFF_PURCHASES'].quantile(.95)]\n",
        "df1=df1[df1['CASH_ADVANCE'] < df['CASH_ADVANCE'].quantile(.95)]\n",
        "df1=df1[df1['PAYMENTS'] < df['PAYMENTS'].quantile(.95)]\n",
        "df1=df1[df1['CREDIT_LIMIT'] < df['CREDIT_LIMIT'].quantile(.95)]\n",
        "df1=df1[df1['MINIMUM_PAYMENTS'] < df['MINIMUM_PAYMENTS'].quantile(.95)]\n",
        "df1=df1[df1['PURCHASES_TRX'] < df['PURCHASES_TRX'].quantile(.95)]\n",
        "df1=df1[df1['CASH_ADVANCE_TRX'] < df['CASH_ADVANCE_TRX'].quantile(.95)]"
      ],
      "execution_count": 7,
      "outputs": []
    },
    {
      "cell_type": "code",
      "metadata": {
        "colab": {
          "base_uri": "https://localhost:8080/"
        },
        "id": "nw8yHiutsARp",
        "outputId": "90444b1c-0b73-4451-a56e-3d1542a18b36"
      },
      "source": [
        "df1.shape"
      ],
      "execution_count": 8,
      "outputs": [
        {
          "output_type": "execute_result",
          "data": {
            "text/plain": [
              "(6880, 17)"
            ]
          },
          "metadata": {},
          "execution_count": 8
        }
      ]
    },
    {
      "cell_type": "code",
      "metadata": {
        "colab": {
          "base_uri": "https://localhost:8080/"
        },
        "id": "ZolJoHgzr1cx",
        "outputId": "e1857f12-19ed-4717-d4a4-74444cc1420f"
      },
      "source": [
        "df1['CREDIT_LIMIT'].std()"
      ],
      "execution_count": 9,
      "outputs": [
        {
          "output_type": "execute_result",
          "data": {
            "text/plain": [
              "2465.720074866465"
            ]
          },
          "metadata": {},
          "execution_count": 9
        }
      ]
    },
    {
      "cell_type": "code",
      "metadata": {
        "colab": {
          "base_uri": "https://localhost:8080/",
          "height": 226
        },
        "id": "z3T9aD01cmGy",
        "outputId": "acba083d-39ee-4bd7-c60c-d4073ac9241e"
      },
      "source": [
        "df1.head()"
      ],
      "execution_count": 10,
      "outputs": [
        {
          "output_type": "execute_result",
          "data": {
            "text/html": [
              "<div>\n",
              "<style scoped>\n",
              "    .dataframe tbody tr th:only-of-type {\n",
              "        vertical-align: middle;\n",
              "    }\n",
              "\n",
              "    .dataframe tbody tr th {\n",
              "        vertical-align: top;\n",
              "    }\n",
              "\n",
              "    .dataframe thead th {\n",
              "        text-align: right;\n",
              "    }\n",
              "</style>\n",
              "<table border=\"1\" class=\"dataframe\">\n",
              "  <thead>\n",
              "    <tr style=\"text-align: right;\">\n",
              "      <th></th>\n",
              "      <th>BALANCE</th>\n",
              "      <th>BALANCE_FREQUENCY</th>\n",
              "      <th>PURCHASES</th>\n",
              "      <th>ONEOFF_PURCHASES</th>\n",
              "      <th>INSTALLMENTS_PURCHASES</th>\n",
              "      <th>CASH_ADVANCE</th>\n",
              "      <th>PURCHASES_FREQUENCY</th>\n",
              "      <th>ONEOFF_PURCHASES_FREQUENCY</th>\n",
              "      <th>PURCHASES_INSTALLMENTS_FREQUENCY</th>\n",
              "      <th>CASH_ADVANCE_FREQUENCY</th>\n",
              "      <th>CASH_ADVANCE_TRX</th>\n",
              "      <th>PURCHASES_TRX</th>\n",
              "      <th>CREDIT_LIMIT</th>\n",
              "      <th>PAYMENTS</th>\n",
              "      <th>MINIMUM_PAYMENTS</th>\n",
              "      <th>PRC_FULL_PAYMENT</th>\n",
              "      <th>TENURE</th>\n",
              "    </tr>\n",
              "  </thead>\n",
              "  <tbody>\n",
              "    <tr>\n",
              "      <th>0</th>\n",
              "      <td>40.900749</td>\n",
              "      <td>0.818182</td>\n",
              "      <td>95.40</td>\n",
              "      <td>0.00</td>\n",
              "      <td>95.40</td>\n",
              "      <td>0.000000</td>\n",
              "      <td>0.166667</td>\n",
              "      <td>0.000000</td>\n",
              "      <td>0.083333</td>\n",
              "      <td>0.000000</td>\n",
              "      <td>0</td>\n",
              "      <td>2</td>\n",
              "      <td>1000.0</td>\n",
              "      <td>201.802084</td>\n",
              "      <td>139.509787</td>\n",
              "      <td>0.0</td>\n",
              "      <td>12</td>\n",
              "    </tr>\n",
              "    <tr>\n",
              "      <th>2</th>\n",
              "      <td>2495.148862</td>\n",
              "      <td>1.000000</td>\n",
              "      <td>773.17</td>\n",
              "      <td>773.17</td>\n",
              "      <td>0.00</td>\n",
              "      <td>0.000000</td>\n",
              "      <td>1.000000</td>\n",
              "      <td>1.000000</td>\n",
              "      <td>0.000000</td>\n",
              "      <td>0.000000</td>\n",
              "      <td>0</td>\n",
              "      <td>12</td>\n",
              "      <td>7500.0</td>\n",
              "      <td>622.066742</td>\n",
              "      <td>627.284787</td>\n",
              "      <td>0.0</td>\n",
              "      <td>12</td>\n",
              "    </tr>\n",
              "    <tr>\n",
              "      <th>3</th>\n",
              "      <td>1666.670542</td>\n",
              "      <td>0.636364</td>\n",
              "      <td>1499.00</td>\n",
              "      <td>1499.00</td>\n",
              "      <td>0.00</td>\n",
              "      <td>205.788017</td>\n",
              "      <td>0.083333</td>\n",
              "      <td>0.083333</td>\n",
              "      <td>0.000000</td>\n",
              "      <td>0.083333</td>\n",
              "      <td>1</td>\n",
              "      <td>1</td>\n",
              "      <td>7500.0</td>\n",
              "      <td>0.000000</td>\n",
              "      <td>0.019163</td>\n",
              "      <td>0.0</td>\n",
              "      <td>12</td>\n",
              "    </tr>\n",
              "    <tr>\n",
              "      <th>4</th>\n",
              "      <td>817.714335</td>\n",
              "      <td>1.000000</td>\n",
              "      <td>16.00</td>\n",
              "      <td>16.00</td>\n",
              "      <td>0.00</td>\n",
              "      <td>0.000000</td>\n",
              "      <td>0.083333</td>\n",
              "      <td>0.083333</td>\n",
              "      <td>0.000000</td>\n",
              "      <td>0.000000</td>\n",
              "      <td>0</td>\n",
              "      <td>1</td>\n",
              "      <td>1200.0</td>\n",
              "      <td>678.334763</td>\n",
              "      <td>244.791237</td>\n",
              "      <td>0.0</td>\n",
              "      <td>12</td>\n",
              "    </tr>\n",
              "    <tr>\n",
              "      <th>5</th>\n",
              "      <td>1809.828751</td>\n",
              "      <td>1.000000</td>\n",
              "      <td>1333.28</td>\n",
              "      <td>0.00</td>\n",
              "      <td>1333.28</td>\n",
              "      <td>0.000000</td>\n",
              "      <td>0.666667</td>\n",
              "      <td>0.000000</td>\n",
              "      <td>0.583333</td>\n",
              "      <td>0.000000</td>\n",
              "      <td>0</td>\n",
              "      <td>8</td>\n",
              "      <td>1800.0</td>\n",
              "      <td>1400.057770</td>\n",
              "      <td>2407.246035</td>\n",
              "      <td>0.0</td>\n",
              "      <td>12</td>\n",
              "    </tr>\n",
              "  </tbody>\n",
              "</table>\n",
              "</div>"
            ],
            "text/plain": [
              "       BALANCE  BALANCE_FREQUENCY  ...  PRC_FULL_PAYMENT  TENURE\n",
              "0    40.900749           0.818182  ...               0.0      12\n",
              "2  2495.148862           1.000000  ...               0.0      12\n",
              "3  1666.670542           0.636364  ...               0.0      12\n",
              "4   817.714335           1.000000  ...               0.0      12\n",
              "5  1809.828751           1.000000  ...               0.0      12\n",
              "\n",
              "[5 rows x 17 columns]"
            ]
          },
          "metadata": {},
          "execution_count": 10
        }
      ]
    },
    {
      "cell_type": "code",
      "metadata": {
        "id": "vbk0Q5unv_Eu"
      },
      "source": [
        "norm = Normalizer()\n",
        "columns = df1.columns\n",
        "dfNorm = pd.DataFrame(norm.fit_transform(df1), columns=columns)"
      ],
      "execution_count": 12,
      "outputs": []
    },
    {
      "cell_type": "code",
      "metadata": {
        "colab": {
          "base_uri": "https://localhost:8080/",
          "height": 226
        },
        "id": "0v2mmK4aZw_A",
        "outputId": "07705b9e-9082-4a87-e6f9-ae1816518ad7"
      },
      "source": [
        "dfNorm.head()"
      ],
      "execution_count": 13,
      "outputs": [
        {
          "output_type": "execute_result",
          "data": {
            "text/html": [
              "<div>\n",
              "<style scoped>\n",
              "    .dataframe tbody tr th:only-of-type {\n",
              "        vertical-align: middle;\n",
              "    }\n",
              "\n",
              "    .dataframe tbody tr th {\n",
              "        vertical-align: top;\n",
              "    }\n",
              "\n",
              "    .dataframe thead th {\n",
              "        text-align: right;\n",
              "    }\n",
              "</style>\n",
              "<table border=\"1\" class=\"dataframe\">\n",
              "  <thead>\n",
              "    <tr style=\"text-align: right;\">\n",
              "      <th></th>\n",
              "      <th>BALANCE</th>\n",
              "      <th>BALANCE_FREQUENCY</th>\n",
              "      <th>PURCHASES</th>\n",
              "      <th>ONEOFF_PURCHASES</th>\n",
              "      <th>INSTALLMENTS_PURCHASES</th>\n",
              "      <th>CASH_ADVANCE</th>\n",
              "      <th>PURCHASES_FREQUENCY</th>\n",
              "      <th>ONEOFF_PURCHASES_FREQUENCY</th>\n",
              "      <th>PURCHASES_INSTALLMENTS_FREQUENCY</th>\n",
              "      <th>CASH_ADVANCE_FREQUENCY</th>\n",
              "      <th>CASH_ADVANCE_TRX</th>\n",
              "      <th>PURCHASES_TRX</th>\n",
              "      <th>CREDIT_LIMIT</th>\n",
              "      <th>PAYMENTS</th>\n",
              "      <th>MINIMUM_PAYMENTS</th>\n",
              "      <th>PRC_FULL_PAYMENT</th>\n",
              "      <th>TENURE</th>\n",
              "    </tr>\n",
              "  </thead>\n",
              "  <tbody>\n",
              "    <tr>\n",
              "      <th>0</th>\n",
              "      <td>0.039353</td>\n",
              "      <td>0.000787</td>\n",
              "      <td>0.091790</td>\n",
              "      <td>0.000000</td>\n",
              "      <td>0.091790</td>\n",
              "      <td>0.000000</td>\n",
              "      <td>0.000160</td>\n",
              "      <td>0.000000</td>\n",
              "      <td>0.000080</td>\n",
              "      <td>0.00000</td>\n",
              "      <td>0.000000</td>\n",
              "      <td>0.001924</td>\n",
              "      <td>0.962156</td>\n",
              "      <td>0.194165</td>\n",
              "      <td>0.134230</td>\n",
              "      <td>0.0</td>\n",
              "      <td>0.011546</td>\n",
              "    </tr>\n",
              "    <tr>\n",
              "      <th>1</th>\n",
              "      <td>0.310798</td>\n",
              "      <td>0.000125</td>\n",
              "      <td>0.096307</td>\n",
              "      <td>0.096307</td>\n",
              "      <td>0.000000</td>\n",
              "      <td>0.000000</td>\n",
              "      <td>0.000125</td>\n",
              "      <td>0.000125</td>\n",
              "      <td>0.000000</td>\n",
              "      <td>0.00000</td>\n",
              "      <td>0.000000</td>\n",
              "      <td>0.001495</td>\n",
              "      <td>0.934206</td>\n",
              "      <td>0.077485</td>\n",
              "      <td>0.078135</td>\n",
              "      <td>0.0</td>\n",
              "      <td>0.001495</td>\n",
              "    </tr>\n",
              "    <tr>\n",
              "      <th>2</th>\n",
              "      <td>0.209047</td>\n",
              "      <td>0.000080</td>\n",
              "      <td>0.188016</td>\n",
              "      <td>0.188016</td>\n",
              "      <td>0.000000</td>\n",
              "      <td>0.025812</td>\n",
              "      <td>0.000010</td>\n",
              "      <td>0.000010</td>\n",
              "      <td>0.000000</td>\n",
              "      <td>0.00001</td>\n",
              "      <td>0.000125</td>\n",
              "      <td>0.000125</td>\n",
              "      <td>0.940708</td>\n",
              "      <td>0.000000</td>\n",
              "      <td>0.000002</td>\n",
              "      <td>0.0</td>\n",
              "      <td>0.001505</td>\n",
              "    </tr>\n",
              "    <tr>\n",
              "      <th>3</th>\n",
              "      <td>0.504284</td>\n",
              "      <td>0.000617</td>\n",
              "      <td>0.009867</td>\n",
              "      <td>0.009867</td>\n",
              "      <td>0.000000</td>\n",
              "      <td>0.000000</td>\n",
              "      <td>0.000051</td>\n",
              "      <td>0.000051</td>\n",
              "      <td>0.000000</td>\n",
              "      <td>0.00000</td>\n",
              "      <td>0.000000</td>\n",
              "      <td>0.000617</td>\n",
              "      <td>0.740040</td>\n",
              "      <td>0.418329</td>\n",
              "      <td>0.150963</td>\n",
              "      <td>0.0</td>\n",
              "      <td>0.007400</td>\n",
              "    </tr>\n",
              "    <tr>\n",
              "      <th>4</th>\n",
              "      <td>0.428658</td>\n",
              "      <td>0.000237</td>\n",
              "      <td>0.315788</td>\n",
              "      <td>0.000000</td>\n",
              "      <td>0.315788</td>\n",
              "      <td>0.000000</td>\n",
              "      <td>0.000158</td>\n",
              "      <td>0.000000</td>\n",
              "      <td>0.000138</td>\n",
              "      <td>0.00000</td>\n",
              "      <td>0.000000</td>\n",
              "      <td>0.001895</td>\n",
              "      <td>0.426330</td>\n",
              "      <td>0.331604</td>\n",
              "      <td>0.570156</td>\n",
              "      <td>0.0</td>\n",
              "      <td>0.002842</td>\n",
              "    </tr>\n",
              "  </tbody>\n",
              "</table>\n",
              "</div>"
            ],
            "text/plain": [
              "    BALANCE  BALANCE_FREQUENCY  ...  PRC_FULL_PAYMENT    TENURE\n",
              "0  0.039353           0.000787  ...               0.0  0.011546\n",
              "1  0.310798           0.000125  ...               0.0  0.001495\n",
              "2  0.209047           0.000080  ...               0.0  0.001505\n",
              "3  0.504284           0.000617  ...               0.0  0.007400\n",
              "4  0.428658           0.000237  ...               0.0  0.002842\n",
              "\n",
              "[5 rows x 17 columns]"
            ]
          },
          "metadata": {},
          "execution_count": 13
        }
      ]
    },
    {
      "cell_type": "code",
      "metadata": {
        "id": "mrXTPal9aQNW"
      },
      "source": [
        "alvo = dfNorm\n",
        "max = 15\n",
        "km_scores = []\n",
        "km_silhouette = []"
      ],
      "execution_count": 14,
      "outputs": []
    },
    {
      "cell_type": "code",
      "metadata": {
        "id": "rIyu1eK3aRwI"
      },
      "source": [
        "for i in range(2,max):\n",
        "  km = KMeans(n_clusters=i, random_state=0).fit(alvo)\n",
        "  preds = km.predict(alvo)\n",
        "  km_scores.append(-km.score(alvo))\n",
        "  silhouette = silhouette_score(alvo,preds)\n",
        "  km_silhouette.append(silhouette)"
      ],
      "execution_count": 15,
      "outputs": []
    },
    {
      "cell_type": "code",
      "metadata": {
        "colab": {
          "base_uri": "https://localhost:8080/",
          "height": 305
        },
        "id": "LhPQnh0eaTc3",
        "outputId": "19380920-ba71-44d8-f09f-dfa6cb4c13a5"
      },
      "source": [
        "# Plotagem do método da Silhouette (Silhueta)\n",
        "plt.figure(figsize=(7,4))\n",
        "plt.title(\"Silhouette Method\",fontsize=16)\n",
        "plt.scatter(x=[i for i in range(2,max)],y=km_silhouette,s=150,edgecolor='k')\n",
        "plt.grid(True)\n",
        "plt.xlabel(\"Nº de clusteres\",fontsize=14)\n",
        "plt.ylabel(\"Silhouette score\",fontsize=15)\n",
        "plt.xticks([i for i in range(2,max)],fontsize=14)\n",
        "plt.yticks(fontsize=15)\n",
        "plt.show()"
      ],
      "execution_count": 16,
      "outputs": [
        {
          "output_type": "display_data",
          "data": {
            "image/png": "[encoded data removed]",
            "text/plain": [
              "<Figure size 504x288 with 1 Axes>"
            ]
          },
          "metadata": {
            "needs_background": "light"
          }
        }
      ]
    },
    {
      "cell_type": "markdown",
      "metadata": {
        "id": "bJ2D_rfMhaY5"
      },
      "source": [
        "### Utilizando o Scaler antes do Normalize"
      ]
    },
    {
      "cell_type": "code",
      "metadata": {
        "id": "bywjIy4ahQgg"
      },
      "source": [
        "# Standardize data\n",
        "scaler = StandardScaler()\n",
        "scaled_df = pd.DataFrame(scaler.fit_transform(df1), columns=columns)"
      ],
      "execution_count": 17,
      "outputs": []
    },
    {
      "cell_type": "code",
      "metadata": {
        "id": "cr4e6hgghhF4"
      },
      "source": [
        "# Normalizing\n",
        "normalized_df = pd.DataFrame(normalize(scaled_df,axis=1), columns=columns)"
      ],
      "execution_count": 18,
      "outputs": []
    },
    {
      "cell_type": "code",
      "metadata": {
        "id": "AFTu7DgvhyjY"
      },
      "source": [
        "# PCA\n",
        "pca = PCA(2)\n",
        "X_principal = pca.fit_transform(normalized_df)\n",
        "X_principal = pd.DataFrame(X_principal)\n",
        "X_principal.columns = ['P1', 'P2']"
      ],
      "execution_count": 19,
      "outputs": []
    },
    {
      "cell_type": "code",
      "metadata": {
        "colab": {
          "base_uri": "https://localhost:8080/",
          "height": 112
        },
        "id": "10nZKAdBiIXW",
        "outputId": "2f194aae-d1da-48ff-dfca-f5dfa26b927a"
      },
      "source": [
        "X_principal.head(2)"
      ],
      "execution_count": 20,
      "outputs": [
        {
          "output_type": "execute_result",
          "data": {
            "text/html": [
              "<div>\n",
              "<style scoped>\n",
              "    .dataframe tbody tr th:only-of-type {\n",
              "        vertical-align: middle;\n",
              "    }\n",
              "\n",
              "    .dataframe tbody tr th {\n",
              "        vertical-align: top;\n",
              "    }\n",
              "\n",
              "    .dataframe thead th {\n",
              "        text-align: right;\n",
              "    }\n",
              "</style>\n",
              "<table border=\"1\" class=\"dataframe\">\n",
              "  <thead>\n",
              "    <tr style=\"text-align: right;\">\n",
              "      <th></th>\n",
              "      <th>P1</th>\n",
              "      <th>P2</th>\n",
              "    </tr>\n",
              "  </thead>\n",
              "  <tbody>\n",
              "    <tr>\n",
              "      <th>0</th>\n",
              "      <td>-0.384607</td>\n",
              "      <td>-0.730559</td>\n",
              "    </tr>\n",
              "    <tr>\n",
              "      <th>1</th>\n",
              "      <td>0.281183</td>\n",
              "      <td>0.453901</td>\n",
              "    </tr>\n",
              "  </tbody>\n",
              "</table>\n",
              "</div>"
            ],
            "text/plain": [
              "         P1        P2\n",
              "0 -0.384607 -0.730559\n",
              "1  0.281183  0.453901"
            ]
          },
          "metadata": {},
          "execution_count": 20
        }
      ]
    },
    {
      "cell_type": "code",
      "metadata": {
        "colab": {
          "base_uri": "https://localhost:8080/",
          "height": 206
        },
        "id": "6tri7iITkCNt",
        "outputId": "4715d886-dff3-41e4-9225-1f886e2faf7c"
      },
      "source": [
        "GM = GaussianMixture(n_components=8)\n",
        "GM.fit(X_principal)\n",
        "X_principal['cl'] = GM.predict(X_principal)\n",
        "X_principal.head()"
      ],
      "execution_count": 21,
      "outputs": [
        {
          "output_type": "execute_result",
          "data": {
            "text/html": [
              "<div>\n",
              "<style scoped>\n",
              "    .dataframe tbody tr th:only-of-type {\n",
              "        vertical-align: middle;\n",
              "    }\n",
              "\n",
              "    .dataframe tbody tr th {\n",
              "        vertical-align: top;\n",
              "    }\n",
              "\n",
              "    .dataframe thead th {\n",
              "        text-align: right;\n",
              "    }\n",
              "</style>\n",
              "<table border=\"1\" class=\"dataframe\">\n",
              "  <thead>\n",
              "    <tr style=\"text-align: right;\">\n",
              "      <th></th>\n",
              "      <th>P1</th>\n",
              "      <th>P2</th>\n",
              "      <th>cl</th>\n",
              "    </tr>\n",
              "  </thead>\n",
              "  <tbody>\n",
              "    <tr>\n",
              "      <th>0</th>\n",
              "      <td>-0.384607</td>\n",
              "      <td>-0.730559</td>\n",
              "      <td>4</td>\n",
              "    </tr>\n",
              "    <tr>\n",
              "      <th>1</th>\n",
              "      <td>0.281183</td>\n",
              "      <td>0.453901</td>\n",
              "      <td>5</td>\n",
              "    </tr>\n",
              "    <tr>\n",
              "      <th>2</th>\n",
              "      <td>-0.089414</td>\n",
              "      <td>0.096139</td>\n",
              "      <td>3</td>\n",
              "    </tr>\n",
              "    <tr>\n",
              "      <th>3</th>\n",
              "      <td>-0.525996</td>\n",
              "      <td>-0.472817</td>\n",
              "      <td>4</td>\n",
              "    </tr>\n",
              "    <tr>\n",
              "      <th>4</th>\n",
              "      <td>0.226420</td>\n",
              "      <td>0.386179</td>\n",
              "      <td>5</td>\n",
              "    </tr>\n",
              "  </tbody>\n",
              "</table>\n",
              "</div>"
            ],
            "text/plain": [
              "         P1        P2  cl\n",
              "0 -0.384607 -0.730559   4\n",
              "1  0.281183  0.453901   5\n",
              "2 -0.089414  0.096139   3\n",
              "3 -0.525996 -0.472817   4\n",
              "4  0.226420  0.386179   5"
            ]
          },
          "metadata": {},
          "execution_count": 21
        }
      ]
    },
    {
      "cell_type": "code",
      "metadata": {
        "colab": {
          "base_uri": "https://localhost:8080/",
          "height": 290
        },
        "id": "iRuOJH5GiMbM",
        "outputId": "324329a7-921d-4581-c123-b5307005b675"
      },
      "source": [
        "plt.title('Clusterização - Mistura Gaussiana',fontsize=25)\n",
        "plt.scatter(data = X_principal,x = 'P1', y='P2' ,alpha=0.6, cmap='Blues')\n",
        "plt.show()"
      ],
      "execution_count": 22,
      "outputs": [
        {
          "output_type": "display_data",
          "data": {
            "image/png": "[encoded data removed]",
            "text/plain": [
              "<Figure size 432x288 with 1 Axes>"
            ]
          },
          "metadata": {
            "needs_background": "light"
          }
        }
      ]
    }
  ]
}